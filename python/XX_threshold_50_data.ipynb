{
 "cells": [
  {
   "attachments": {},
   "cell_type": "markdown",
   "id": "79f3fdde",
   "metadata": {},
   "source": [
    "# XX_threshold_50_data.ipynb"
   ]
  },
  {
   "attachments": {},
   "cell_type": "markdown",
   "id": "4809daf1",
   "metadata": {},
   "source": [
    "## 閾値除去（閾値50μV）の実施"
   ]
  },
  {
   "attachments": {},
   "cell_type": "markdown",
   "id": "be0b1a34",
   "metadata": {},
   "source": [
    "## .datファイルの作成、個人別の波形出力"
   ]
  },
  {
   "attachments": {},
   "cell_type": "markdown",
   "id": "564d9303",
   "metadata": {},
   "source": [
    "### 使用脳波データは、XX_data内のdatファイル"
   ]
  },
  {
   "cell_type": "code",
   "execution_count": 1,
   "id": "c8b66eba",
   "metadata": {},
   "outputs": [],
   "source": [
    "import pandas as pd\n",
    "import matplotlib.pyplot as plt\n",
    "import numpy as np\n",
    "import pickle"
   ]
  },
  {
   "cell_type": "code",
   "execution_count": 2,
   "id": "a43f3d36",
   "metadata": {},
   "outputs": [],
   "source": [
    "files = [\"filename1\", \"filename2\", \"filename3\",]"
   ]
  },
  {
   "attachments": {},
   "cell_type": "markdown",
   "id": "f5cc9f4f",
   "metadata": {},
   "source": [
    "### 1. datファイルからのデータロード、閾値除去の実施"
   ]
  },
  {
   "attachments": {},
   "cell_type": "markdown",
   "id": "8e40441c",
   "metadata": {},
   "source": [
    "### data_EEG = \n",
    "### image_stimulus(HLでソート)\n",
    "### × channel(AF3, AFz, AF4, F3, Fz, F4) \n",
    "### × frame(500fpsなので、550frames)"
   ]
  },
  {
   "attachments": {},
   "cell_type": "markdown",
   "id": "ee2dce7b",
   "metadata": {},
   "source": [
    "### label =  \n",
    "### image_stimulus(HLでソート)\n",
    "### × HL"
   ]
  },
  {
   "cell_type": "code",
   "execution_count": null,
   "id": "f5d682d5",
   "metadata": {},
   "outputs": [],
   "source": [
    "file = 0\n",
    "with open(f'../dataset/XX_data/{files[file]}_20_epochs_pruned_with_ICA_baseline.dat', mode='rb') as f:\n",
    "        data_EEG = pickle.load(f)\n",
    "        label = pickle.load(f)\n",
    "\n",
    "# 閾値除去データのデータフレーム用意\n",
    "columns = ['image_stimulus', 'HL']\n",
    "threshold_50_data = pd.DataFrame(data=label, columns=columns)\n",
    "threshold_50_data"
   ]
  },
  {
   "cell_type": "code",
   "execution_count": null,
   "id": "e007ebb2",
   "metadata": {
    "scrolled": false
   },
   "outputs": [],
   "source": [
    "ch_name = ['AF3', 'AFz', 'AF4', 'F3', 'Fz', 'F4']\n",
    "color = [\"red\", \"green\", \"blue\", \"purple\", \"orange\", \"pink\"]\n",
    "\n",
    "\n",
    "for file in range(len(files)):\n",
    "    \n",
    "    # 脳波データ(data_EEG), ラベル（label)のロード\n",
    "    \n",
    "    with open(f'../dataset/XX_data/{files[file]}_20_epochs_pruned_with_ICA_baseline.dat', mode='rb') as f:\n",
    "        data_EEG = pickle.load(f)\n",
    "        label = pickle.load(f)\n",
    "     \n",
    "    # 全チャネルで、脳波の絶対値が50μVを超えるframeがあるエポックの、配列の値を全てnanにする\n",
    "    \n",
    "    for image in range(len(label)):\n",
    "        for frame in range(550):\n",
    "            if np.all(np.abs(data_EEG[image,:,frame])>50):\n",
    "                data_EEG[image,:,:] = np.nan\n",
    "            \n",
    "            \n",
    "    # 除去された（nanにされた）データの一覧作成\n",
    "    \n",
    "    threshold_50_data[f'{files[file]}_50'] = np.all(np.all(np.isnan(data_EEG), axis = 1), axis=1)\n",
    "    \n",
    "    \n",
    "    # グラフ化（nanにしたデータがグラフ化されない）  、グラフの保存     \n",
    "    \n",
    "    fig = plt.figure(figsize = (300,200))\n",
    "    plt.suptitle(f'{files[file]}(threshold_50)', fontsize=60)\n",
    "    \n",
    "    for image in range(len(label)):\n",
    "        plt.subplot(16, 17 , image+1)\n",
    "        plt.title(f'{label[image,0]}_{label[image,1]}', fontsize=50)\n",
    "\n",
    "        x = np.linspace(-100, 1000, 550)\n",
    "        for c in range(6):\n",
    "            y = data_EEG[image, c,:]\n",
    "            plt.plot(x, y, lw=3, color = color[c], label=ch_name[c])\n",
    "\n",
    "        plt.ylim(-50, 50)\n",
    "        plt.xlim(-100, 1000)\n",
    "        plt.xlabel('Time (ms)',fontsize=20)\n",
    "        plt.xticks(fontsize=20)\n",
    "        plt.ylabel('Potential (μV)',fontsize=20)\n",
    "        plt.legend(fontsize=20, loc='upper right')\n",
    "        plt.yticks(fontsize=20)\n",
    "\n",
    "        plt.hlines(y=0, xmin=-100, xmax=1000, color = 'k')\n",
    "        plt.vlines(x=0, ymin=-100, ymax=1000, color = 'k')\n",
    "        plt.grid()\n",
    "\n",
    "    plt.show()\n",
    "    fig.savefig(f'../dataset/XX_threshold_50_data/{files[file]}_threshold_50_data.png')\n",
    "    \n",
    "    \n",
    "    # 閾値除去後の脳波データ(data_EEG), ラベル（label)の保存\n",
    "\n",
    "    with open(f'../dataset/XX_threshold_50_data/{files[file]}_threshold_50.dat', mode='wb') as f:\n",
    "        pickle.dump(data_EEG, f)\n",
    "        pickle.dump(label, f)\n",
    "\n",
    "    print(f\"{files[file]}_threshold_50.dat\", \"complete\")\n",
    "    print(\"data_EEG: \", data_EEG.shape)\n",
    "    print(\"label: \", label.shape)\n",
    "    \n",
    "    print(f\"{files[file]}_threshold_50\", \"complete\")\n",
    "    \n",
    "# 閾値除去データに、除去数のトータルを入力、データフレームの入力\n",
    "\n",
    "with open(f'../dataset/XX_threshold_50_data/threshold_50.dat', mode='wb') as f:\n",
    "        pickle.dump(threshold_50_data, f)\n"
   ]
  },
  {
   "cell_type": "code",
   "execution_count": null,
   "id": "7b152504",
   "metadata": {},
   "outputs": [],
   "source": [
    "threshold_50_data.sum()"
   ]
  }
 ],
 "metadata": {
  "kernelspec": {
   "display_name": "Python 3",
   "language": "python",
   "name": "python3"
  },
  "language_info": {
   "codemirror_mode": {
    "name": "ipython",
    "version": 3
   },
   "file_extension": ".py",
   "mimetype": "text/x-python",
   "name": "python",
   "nbconvert_exporter": "python",
   "pygments_lexer": "ipython3",
   "version": "3.8.8"
  }
 },
 "nbformat": 4,
 "nbformat_minor": 5
}
